{
 "cells": [
  {
   "cell_type": "markdown",
   "id": "4dbce3cb",
   "metadata": {},
   "source": [
    "### Machine learning methods for effective thickness prediction"
   ]
  },
  {
   "cell_type": "code",
   "execution_count": 2,
   "id": "5ac68e84",
   "metadata": {},
   "outputs": [],
   "source": [
    "import segyio\n",
    "import numpy as np"
   ]
  },
  {
   "cell_type": "code",
   "execution_count": 3,
   "id": "5ba39afc",
   "metadata": {},
   "outputs": [],
   "source": [
    "# Upload cube and cut off horison\n",
    "\n",
    "# Seismic cube data\n",
    "cubic = segyio.tools.cube('data/seis.sgy')\n",
    "\n",
    "# Top of layer coordinates\n",
    "top_layer = np.loadtxt('data/top.char', usecols=(2,5,6,7,8))\n",
    "# 2 - Inline number, 5 - Cross-line number, 6 - Coordinate X , 7 - Coordinate Y, 8 - Coordinate t0"
   ]
  },
  {
   "cell_type": "code",
   "execution_count": 4,
   "id": "1baa1fac",
   "metadata": {},
   "outputs": [],
   "source": [
    "# Reflecting horison in the cube (known a priori)\n",
    "finl = 479 # Number of first inline \n",
    "fcrl = 5000 # Number of first xline\n",
    "tmin = 1750 # Time of first horison sample\n",
    "tinc = 2 # Time sampling step\n",
    "\n",
    "ninl = np.rint(top_layer[:,0]-finl).astype(np.int64) # Array with inline numbers\n",
    "ncrl = np.rint(top_layer[:,1]-fcrl).astype(np.int64) # Array with xline numbers\n",
    "\n",
    "coord_x = top_layer[:,2]\n",
    "coord_y = top_layer[:,3]\n",
    "\n",
    "t_hor_top = (top_layer[:,4]-tmin)/tinc\n",
    "\n",
    "horizon_top = np.zeros((cubic.shape[0],cubic.shape[1])) \n",
    "mask = np.zeros((cubic.shape[0],cubic.shape[1])) \n",
    "\n",
    "horizon_top[ninl[:],ncrl[:]] = t_hor_top[:].copy()\n",
    "mask[ninl[:],ncrl[:]] = 1"
   ]
  },
  {
   "cell_type": "code",
   "execution_count": 47,
   "id": "c5608f40",
   "metadata": {},
   "outputs": [],
   "source": [
    "# Upload wells for learning\n",
    "\n",
    "train_wells = np.loadtxt('data/train_points.txt')\n",
    "train_wells_x = l_wells[:, 0]\n",
    "train_wells_y = l_wells[:, 1]\n",
    "train_wells_depth = l_wells[:, 2]\n",
    "\n",
    "test_wells = np.loadtxt('data/test_points.txt')\n",
    "test_wells_x = r_wells[:, 1]\n",
    "test_wells_y = r_wells[:, 2]"
   ]
  },
  {
   "cell_type": "code",
   "execution_count": 48,
   "id": "271bd991",
   "metadata": {},
   "outputs": [],
   "source": [
    "# Fuctions for attributes calculation (Firstly we will use two parameters: kinamic and dynamic - first dip after layer \n",
    "# and multiplyied amplitude module, those parameters are independent)\n",
    "\n",
    "\n",
    "def first_dip(cube, horison, inline_ar, crossline_ar):\n",
    "    first_dp = np.zeros((cube.shape[0], cube.shape[1]))\n",
    "\n",
    "    \n",
    "    trace_last_index = int(len(cubic[inline_ar[0], crossline_ar[0], :]) - 1)\n",
    "    \n",
    "    for i in range(0, 511914):\n",
    "                x = True\n",
    "                time_sample_step = 1\n",
    "                while x:\n",
    "                    time_sample_step += 1\n",
    "                    \n",
    "                    sample_num = int(horison[inline_ar[i], crossline_ar[i]].astype(np.int64) + time_sample_step)\n",
    "                \n",
    "                    if sample_num + 1 > trace_last_index:\n",
    "                        break\n",
    "                    else:\n",
    "                        a = cubic[inline_ar[i], crossline_ar[i], sample_num]\n",
    "                        b = cubic[inline_ar[i], crossline_ar[i], sample_num + 1]\n",
    "                        c = cubic[inline_ar[i], crossline_ar[i], sample_num - 1]\n",
    "\n",
    "                        if b > a and c > a:\n",
    "                            \n",
    "                            first_dp[inline_ar[i], crossline_ar[i]] = time_sample_step\n",
    "                            break\n",
    "                                                \n",
    "    return first_dp\n",
    "\n",
    "\n",
    "def amplitudes_map(cube, horison, inline_ar, crossline_ar, step_down_from_top):\n",
    "    amplitudes = np.zeros((cube.shape[0], cube.shape[1]))\n",
    "    amplitudes[inline_ar[:], crossline_ar[:]] = cubic[inline_ar[:], crossline_ar[:], \n",
    "                                                      horison[inline_ar[:], crossline_ar[:]].astype(np.int64) \n",
    "                                                      + step_down_from_top ]\n",
    "    return amplitudes\n",
    "\n",
    "\n",
    "def summ_module_amp(cube, horison, inline_ar, crossline_ar, numbers_of_step_down):\n",
    "    m_amplitudes = np.zeros((cube.shape[0], cube.shape[1]))\n",
    "    for i in range(numbers_of_step_down):\n",
    "        m_amplitudes += np.abs(amplitudes_map(cubic, horizon_top, ninl, ncrl, i))\n",
    "    return m_amplitudes\n",
    "\n",
    "\n"
   ]
  },
  {
   "cell_type": "code",
   "execution_count": 49,
   "id": "252d2199",
   "metadata": {},
   "outputs": [],
   "source": [
    "first_dip_map = first_dip(cubic, horizon_top, ninl, ncrl)\n",
    "sm_amp_map = summ_module_amp(cubic, horizon_top, ninl, ncrl, 14)"
   ]
  },
  {
   "cell_type": "code",
   "execution_count": 50,
   "id": "94a4a62f",
   "metadata": {},
   "outputs": [],
   "source": [
    "# Getting attribute values in coordinates, where wells are located\n",
    "def get_attr(x, y, att_map):\n",
    "    dif_x = []\n",
    "    for i in coord_x:\n",
    "        dif = abs(x - i)\n",
    "        dif_x.append(dif)\n",
    "    dif_y = []\n",
    "    for j in coord_y:\n",
    "        dif = abs(y - j)\n",
    "        dif_y.append(dif)\n",
    "    summ_xy = list(map(lambda q, w: q + w, dif_x, dif_y))\n",
    "    #print(min(summ_xy))\n",
    "    ind = summ_xy.index(min(summ_xy))\n",
    "    #print(x, y)\n",
    "    #print(top_layer[ind, 2], top_layer[ind, 3])\n",
    "    inline = int(top_layer[ind, 0]-finl) \n",
    "    xline = int(top_layer[ind, 1]-fcrl)\n",
    "    return att_map[inline, xline]\n",
    "\n",
    "\n",
    "attrs = np.zeros((len(train_wells_x), 2))\n",
    "\n",
    "for i in range(len(train_wells_x)):\n",
    "    attrs[i, 0] = get_attr(train_wells_x[i], test_wells_y[i], first_dip_map)\n",
    "    attrs[i, 1] = get_attr(train_wells_x[i], test_wells_y[i], sm_amp_map)\n",
    "    \n",
    "    \n"
   ]
  },
  {
   "cell_type": "code",
   "execution_count": 51,
   "id": "6b589388",
   "metadata": {},
   "outputs": [],
   "source": [
    "# Data normalisation \n",
    "from sklearn import preprocessing\n",
    "\n",
    "min_max_scaler_1 = preprocessing.MinMaxScaler()\n",
    "min_max_scaler_2 = preprocessing.MinMaxScaler()\n",
    "\n",
    "Xn_1 = min_max_scaler_1.fit_transform(attrs[:, 0].reshape(-1, 1))\n",
    "Xn_2 = min_max_scaler_2.fit_transform(attrs[:, 1].reshape(-1, 1))\n",
    "\n",
    "\n",
    "X = np.hstack((Xn_1, Xn_2))\n",
    "y = train_wells_depth"
   ]
  },
  {
   "cell_type": "code",
   "execution_count": 59,
   "id": "d948eb9c",
   "metadata": {},
   "outputs": [
    {
     "data": {
      "text/plain": [
       "array([ 4.9 , 14.56,  9.67, 10.37, 10.09,  3.77, 17.96,  3.44, 20.47,\n",
       "       17.98, 18.4 ,  2.08,  2.75, 13.68, 18.59,  7.63, 13.11,  8.78,\n",
       "       11.8 , 14.78, 10.47,  4.1 , 10.65, 19.6 , 12.89, 15.77,  6.6 ,\n",
       "       13.76,  0.  ,  4.69, 15.92, 12.65, 18.8 , 12.53, 17.98,  6.76,\n",
       "       12.26, 10.78, 15.35, 10.53,  9.82,  3.06, 17.36, 13.91, 11.66,\n",
       "       18.8 ,  2.5 ,  4.  , 18.44, 16.3 , 13.29,  3.81, 12.59, 16.  ,\n",
       "        2.33,  3.8 , 21.29, 18.11, 15.8 , 11.59, 13.35, 19.1 , 29.46,\n",
       "       31.24, 23.01, 21.18, 17.24, 46.02,  6.45, 36.27, 31.68, 24.23,\n",
       "       32.57, 26.21,  0.  ,  0.91,  0.76,  0.23, 11.89, 35.36])"
      ]
     },
     "execution_count": 59,
     "metadata": {},
     "output_type": "execute_result"
    }
   ],
   "source": [
    "y"
   ]
  },
  {
   "cell_type": "code",
   "execution_count": 52,
   "id": "c291ec94",
   "metadata": {},
   "outputs": [],
   "source": [
    "# For thickness prediction we apply GaussianNB, KNeighbors, RandomForest\n",
    "\n",
    "from sklearn.naive_bayes import GaussianNB\n",
    "from sklearn.ensemble import RandomForestClassifier\n",
    "from sklearn.neighbors import KNeighborsClassifier\n",
    "from sklearn.model_selection import train_test_split"
   ]
  },
  {
   "cell_type": "code",
   "execution_count": 60,
   "id": "feb8be77",
   "metadata": {},
   "outputs": [
    {
     "ename": "ValueError",
     "evalue": "Unknown label type: (array([ 0.  ,  0.23,  2.75,  3.44,  3.8 ,  4.  ,  4.9 ,  7.63,  8.78,\n        9.82, 10.09, 10.37, 10.78, 11.59, 11.66, 11.89, 12.53, 12.59,\n       12.89, 13.29, 13.35, 13.68, 13.76, 13.91, 14.56, 15.77, 15.8 ,\n       17.96, 17.98, 18.4 , 18.44, 18.59, 18.8 , 19.6 , 21.29, 24.23,\n       26.21, 31.24, 35.36]),)",
     "output_type": "error",
     "traceback": [
      "\u001b[1;31m---------------------------------------------------------------------------\u001b[0m",
      "\u001b[1;31mValueError\u001b[0m                                Traceback (most recent call last)",
      "\u001b[1;32m<ipython-input-60-f23279630181>\u001b[0m in \u001b[0;36m<module>\u001b[1;34m\u001b[0m\n\u001b[0;32m      4\u001b[0m \u001b[1;33m\u001b[0m\u001b[0m\n\u001b[0;32m      5\u001b[0m \u001b[0mgnb\u001b[0m \u001b[1;33m=\u001b[0m \u001b[0mGaussianNB\u001b[0m\u001b[1;33m(\u001b[0m\u001b[1;33m)\u001b[0m\u001b[1;33m\u001b[0m\u001b[1;33m\u001b[0m\u001b[0m\n\u001b[1;32m----> 6\u001b[1;33m \u001b[0my_pred\u001b[0m \u001b[1;33m=\u001b[0m \u001b[0mgnb\u001b[0m\u001b[1;33m.\u001b[0m\u001b[0mfit\u001b[0m\u001b[1;33m(\u001b[0m\u001b[0mX_train\u001b[0m\u001b[1;33m,\u001b[0m \u001b[0my_train\u001b[0m\u001b[1;33m)\u001b[0m\u001b[1;33m.\u001b[0m\u001b[0mpredict\u001b[0m\u001b[1;33m(\u001b[0m\u001b[0mX_test\u001b[0m\u001b[1;33m)\u001b[0m\u001b[1;33m\u001b[0m\u001b[1;33m\u001b[0m\u001b[0m\n\u001b[0m\u001b[0;32m      7\u001b[0m \u001b[1;33m\u001b[0m\u001b[0m\n\u001b[0;32m      8\u001b[0m \u001b[0mprint\u001b[0m\u001b[1;33m(\u001b[0m\u001b[1;34m'GaussianNB'\u001b[0m\u001b[1;33m)\u001b[0m\u001b[1;33m\u001b[0m\u001b[1;33m\u001b[0m\u001b[0m\n",
      "\u001b[1;32m~\\anaconda3\\lib\\site-packages\\sklearn\\naive_bayes.py\u001b[0m in \u001b[0;36mfit\u001b[1;34m(self, X, y, sample_weight)\u001b[0m\n\u001b[0;32m    207\u001b[0m         \u001b[0mX\u001b[0m\u001b[1;33m,\u001b[0m \u001b[0my\u001b[0m \u001b[1;33m=\u001b[0m \u001b[0mself\u001b[0m\u001b[1;33m.\u001b[0m\u001b[0m_validate_data\u001b[0m\u001b[1;33m(\u001b[0m\u001b[0mX\u001b[0m\u001b[1;33m,\u001b[0m \u001b[0my\u001b[0m\u001b[1;33m)\u001b[0m\u001b[1;33m\u001b[0m\u001b[1;33m\u001b[0m\u001b[0m\n\u001b[0;32m    208\u001b[0m         \u001b[0my\u001b[0m \u001b[1;33m=\u001b[0m \u001b[0mcolumn_or_1d\u001b[0m\u001b[1;33m(\u001b[0m\u001b[0my\u001b[0m\u001b[1;33m,\u001b[0m \u001b[0mwarn\u001b[0m\u001b[1;33m=\u001b[0m\u001b[1;32mTrue\u001b[0m\u001b[1;33m)\u001b[0m\u001b[1;33m\u001b[0m\u001b[1;33m\u001b[0m\u001b[0m\n\u001b[1;32m--> 209\u001b[1;33m         return self._partial_fit(X, y, np.unique(y), _refit=True,\n\u001b[0m\u001b[0;32m    210\u001b[0m                                  sample_weight=sample_weight)\n\u001b[0;32m    211\u001b[0m \u001b[1;33m\u001b[0m\u001b[0m\n",
      "\u001b[1;32m~\\anaconda3\\lib\\site-packages\\sklearn\\naive_bayes.py\u001b[0m in \u001b[0;36m_partial_fit\u001b[1;34m(self, X, y, classes, _refit, sample_weight)\u001b[0m\n\u001b[0;32m    372\u001b[0m             \u001b[0mself\u001b[0m\u001b[1;33m.\u001b[0m\u001b[0mclasses_\u001b[0m \u001b[1;33m=\u001b[0m \u001b[1;32mNone\u001b[0m\u001b[1;33m\u001b[0m\u001b[1;33m\u001b[0m\u001b[0m\n\u001b[0;32m    373\u001b[0m \u001b[1;33m\u001b[0m\u001b[0m\n\u001b[1;32m--> 374\u001b[1;33m         \u001b[1;32mif\u001b[0m \u001b[0m_check_partial_fit_first_call\u001b[0m\u001b[1;33m(\u001b[0m\u001b[0mself\u001b[0m\u001b[1;33m,\u001b[0m \u001b[0mclasses\u001b[0m\u001b[1;33m)\u001b[0m\u001b[1;33m:\u001b[0m\u001b[1;33m\u001b[0m\u001b[1;33m\u001b[0m\u001b[0m\n\u001b[0m\u001b[0;32m    375\u001b[0m             \u001b[1;31m# This is the first call to partial_fit:\u001b[0m\u001b[1;33m\u001b[0m\u001b[1;33m\u001b[0m\u001b[1;33m\u001b[0m\u001b[0m\n\u001b[0;32m    376\u001b[0m             \u001b[1;31m# initialize various cumulative counters\u001b[0m\u001b[1;33m\u001b[0m\u001b[1;33m\u001b[0m\u001b[1;33m\u001b[0m\u001b[0m\n",
      "\u001b[1;32m~\\anaconda3\\lib\\site-packages\\sklearn\\utils\\multiclass.py\u001b[0m in \u001b[0;36m_check_partial_fit_first_call\u001b[1;34m(clf, classes)\u001b[0m\n\u001b[0;32m    337\u001b[0m         \u001b[1;32melse\u001b[0m\u001b[1;33m:\u001b[0m\u001b[1;33m\u001b[0m\u001b[1;33m\u001b[0m\u001b[0m\n\u001b[0;32m    338\u001b[0m             \u001b[1;31m# This is the first call to partial_fit\u001b[0m\u001b[1;33m\u001b[0m\u001b[1;33m\u001b[0m\u001b[1;33m\u001b[0m\u001b[0m\n\u001b[1;32m--> 339\u001b[1;33m             \u001b[0mclf\u001b[0m\u001b[1;33m.\u001b[0m\u001b[0mclasses_\u001b[0m \u001b[1;33m=\u001b[0m \u001b[0munique_labels\u001b[0m\u001b[1;33m(\u001b[0m\u001b[0mclasses\u001b[0m\u001b[1;33m)\u001b[0m\u001b[1;33m\u001b[0m\u001b[1;33m\u001b[0m\u001b[0m\n\u001b[0m\u001b[0;32m    340\u001b[0m             \u001b[1;32mreturn\u001b[0m \u001b[1;32mTrue\u001b[0m\u001b[1;33m\u001b[0m\u001b[1;33m\u001b[0m\u001b[0m\n\u001b[0;32m    341\u001b[0m \u001b[1;33m\u001b[0m\u001b[0m\n",
      "\u001b[1;32m~\\anaconda3\\lib\\site-packages\\sklearn\\utils\\multiclass.py\u001b[0m in \u001b[0;36munique_labels\u001b[1;34m(*ys)\u001b[0m\n\u001b[0;32m     96\u001b[0m     \u001b[0m_unique_labels\u001b[0m \u001b[1;33m=\u001b[0m \u001b[0m_FN_UNIQUE_LABELS\u001b[0m\u001b[1;33m.\u001b[0m\u001b[0mget\u001b[0m\u001b[1;33m(\u001b[0m\u001b[0mlabel_type\u001b[0m\u001b[1;33m,\u001b[0m \u001b[1;32mNone\u001b[0m\u001b[1;33m)\u001b[0m\u001b[1;33m\u001b[0m\u001b[1;33m\u001b[0m\u001b[0m\n\u001b[0;32m     97\u001b[0m     \u001b[1;32mif\u001b[0m \u001b[1;32mnot\u001b[0m \u001b[0m_unique_labels\u001b[0m\u001b[1;33m:\u001b[0m\u001b[1;33m\u001b[0m\u001b[1;33m\u001b[0m\u001b[0m\n\u001b[1;32m---> 98\u001b[1;33m         \u001b[1;32mraise\u001b[0m \u001b[0mValueError\u001b[0m\u001b[1;33m(\u001b[0m\u001b[1;34m\"Unknown label type: %s\"\u001b[0m \u001b[1;33m%\u001b[0m \u001b[0mrepr\u001b[0m\u001b[1;33m(\u001b[0m\u001b[0mys\u001b[0m\u001b[1;33m)\u001b[0m\u001b[1;33m)\u001b[0m\u001b[1;33m\u001b[0m\u001b[1;33m\u001b[0m\u001b[0m\n\u001b[0m\u001b[0;32m     99\u001b[0m \u001b[1;33m\u001b[0m\u001b[0m\n\u001b[0;32m    100\u001b[0m     \u001b[0mys_labels\u001b[0m \u001b[1;33m=\u001b[0m \u001b[0mset\u001b[0m\u001b[1;33m(\u001b[0m\u001b[0mchain\u001b[0m\u001b[1;33m.\u001b[0m\u001b[0mfrom_iterable\u001b[0m\u001b[1;33m(\u001b[0m\u001b[0m_unique_labels\u001b[0m\u001b[1;33m(\u001b[0m\u001b[0my\u001b[0m\u001b[1;33m)\u001b[0m \u001b[1;32mfor\u001b[0m \u001b[0my\u001b[0m \u001b[1;32min\u001b[0m \u001b[0mys\u001b[0m\u001b[1;33m)\u001b[0m\u001b[1;33m)\u001b[0m\u001b[1;33m\u001b[0m\u001b[1;33m\u001b[0m\u001b[0m\n",
      "\u001b[1;31mValueError\u001b[0m: Unknown label type: (array([ 0.  ,  0.23,  2.75,  3.44,  3.8 ,  4.  ,  4.9 ,  7.63,  8.78,\n        9.82, 10.09, 10.37, 10.78, 11.59, 11.66, 11.89, 12.53, 12.59,\n       12.89, 13.29, 13.35, 13.68, 13.76, 13.91, 14.56, 15.77, 15.8 ,\n       17.96, 17.98, 18.4 , 18.44, 18.59, 18.8 , 19.6 , 21.29, 24.23,\n       26.21, 31.24, 35.36]),)"
     ]
    }
   ],
   "source": [
    "\n",
    "X_train, X_test, y_train, y_test = train_test_split(X, y, test_size=0.5, random_state=11)\n",
    "\n",
    "# Applying different classificators\n",
    "\n",
    "gnb = GaussianNB() \n",
    "y_pred = gnb.fit(X_train, y_train).predict(X_test)\n",
    "\n",
    "print('GaussianNB')\n",
    "print(metrics.classification_report(y_test, y_pred))\n",
    "print()\n",
    "\n",
    "kn = KNeighborsClassifier(20)  \n",
    "y_pred = kn.fit(X_train, y_train).predict(X_test)\n",
    "\n",
    "print('KNeighbors')\n",
    "print(metrics.classification_report(y_test, y_pred)) \n",
    "print()\n",
    "\n",
    "rfc = RandomForestClassifier()  \n",
    "y_pred = rfc.fit(X_train, y_train).predict(X_test)\n",
    "\n",
    "print('RandomForest')\n",
    "print(metrics.classification_report(y_test, y_pred))\n",
    "print()\n"
   ]
  }
 ],
 "metadata": {
  "kernelspec": {
   "display_name": "Python 3",
   "language": "python",
   "name": "python3"
  },
  "language_info": {
   "codemirror_mode": {
    "name": "ipython",
    "version": 3
   },
   "file_extension": ".py",
   "mimetype": "text/x-python",
   "name": "python",
   "nbconvert_exporter": "python",
   "pygments_lexer": "ipython3",
   "version": "3.8.8"
  }
 },
 "nbformat": 4,
 "nbformat_minor": 5
}
